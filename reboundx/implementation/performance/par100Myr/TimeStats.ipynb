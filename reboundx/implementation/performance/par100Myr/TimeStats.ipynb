{
 "cells": [
  {
   "cell_type": "code",
   "execution_count": 7,
   "metadata": {},
   "outputs": [
    {
     "name": "stdout",
     "output_type": "stream",
     "text": [
      "---Time Performance Statistics---\n",
      "Total runs:   10\n",
      "   Average:   66.410694 s\n",
      "     Error: ± 1.500000 s\n"
     ]
    }
   ],
   "source": [
    "import numpy as np\n",
    "\n",
    "runs = 10\n",
    "times = []\n",
    "for i in range(1, runs+1):\n",
    "    fname = 'run0' + str(i) + '/output/seqtimes.txt'\n",
    "    if i == 10:\n",
    "        fname = 'run10/output/seqtimes.txt'\n",
    "    t = np.loadtxt(fname, usecols=1)\n",
    "    # uncomment if each run contains sequence of runs\n",
    "    # data = np.loadtxt(fname, usecols=1)\n",
    "    # time = data[:, 1]                    # return only 2nd col\n",
    "    times.append(t)\n",
    "tarr = np.asarray(times)\n",
    "\n",
    "print('---Time Performance Statistics---')\n",
    "print('Total runs:   %d'%(tarr.size))\n",
    "print('   Average:   %f s'%(np.average(tarr)))\n",
    "print('     Error: ± %f s'%(np.std(tarr)))\n"
   ]
  }
 ],
 "metadata": {
  "kernelspec": {
   "display_name": "REBOUNDx (3.1.0)",
   "language": "python",
   "name": "rebx-3.1.0"
  },
  "language_info": {
   "codemirror_mode": {
    "name": "ipython",
    "version": 3
   },
   "file_extension": ".py",
   "mimetype": "text/x-python",
   "name": "python",
   "nbconvert_exporter": "python",
   "pygments_lexer": "ipython3",
   "version": "3.8.3"
  },
  "widgets": {
   "application/vnd.jupyter.widget-state+json": {
    "state": {},
    "version_major": 2,
    "version_minor": 0
   }
  }
 },
 "nbformat": 4,
 "nbformat_minor": 4
}
